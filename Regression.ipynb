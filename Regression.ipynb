{
 "cells": [
  {
   "attachments": {},
   "cell_type": "markdown",
   "metadata": {},
   "source": [
    "This code will eventually go into a pypi package"
   ]
  },
  {
   "cell_type": "code",
   "execution_count": null,
   "metadata": {},
   "outputs": [],
   "source": [
    "import pickle\n",
    "import pandas\n",
    "import json\n",
    "from sklearn.mixture import GaussianMixture\n",
    "from sklearn.model_selection import train_test_split\n",
    "import os\n",
    "from sklearn.decomposition import PCA\n",
    "from sklearn.pipeline import Pipeline\n",
    "from sklearn.preprocessing import StandardScaler\n",
    "\n",
    "def hyperparameter(s):\n",
    "    j = json.loads(os.environ['SC_MODEL_HYPERPARAMS'])\n",
    "    return j.get(s)\n",
    "def model_cfg(s):\n",
    "    j = json.loads(os.environ['SC_MODEL_CFG'])\n",
    "    return j.get(s)\n",
    "\n",
    "def write_fit(fit):\n",
    "    with open(os.environ['SC_MODEL_FIT_DEST'], 'wb') as handle:\n",
    "        pickle.dump(fit, handle, protocol=pickle.HIGHEST_PROTOCOL)\n",
    "\n",
    "def set_metrics(ms):\n",
    "    with open(os.environ['SC_MODEL_METRICS_DEST'], 'w') as fp:\n",
    "        json.dump(ms, fp)\n",
    "\n",
    "def data_file_path():\n",
    "    return os.environ['SC_MODEL_DATA_FILE']"
   ]
  },
  {
   "attachments": {},
   "cell_type": "markdown",
   "metadata": {},
   "source": [
    "This is the code to train"
   ]
  },
  {
   "cell_type": "code",
   "execution_count": null,
   "metadata": {},
   "outputs": [],
   "source": [
    "df = pandas.read_csv(data_file_path())\n",
    "dfxs = df.iloc[:, :-1]\n",
    "dfy = df.iloc[:, -1]\n",
    "modeltype = model_cfg('regression_model')\n",
    "do_split = model_cfg('split_test_train')\n",
    "if do_split:\n",
    "  X_train, X_test, y_train, y_test = train_test_split(dfxs, dfy, test_size=0.20, random_state=42)\n",
    "else:\n",
    "  X_train = dfxs\n",
    "  X_test = dfxs\n",
    "  y_train = dfy\n",
    "  y_test = dfy\n",
    "\n",
    "if modeltype == \"Linear\":\n",
    "    from sklearn.linear_model import LinearRegression\n",
    "    model = LinearRegression().fit(X_train, y_train)\n",
    "elif modeltype == \"Ridge\":\n",
    "    from sklearn.linear_model import Ridge\n",
    "    model = Ridge(alpha=hyperparameter('regularization')).fit(X_train, y_train)\n",
    "elif modeltype == \"Lasso\":\n",
    "    from sklearn.linear_model import Lasso\n",
    "    model = Lasso(alpha=hyperparameter('regularization')).fit(X_train, y_train)\n",
    "elif modeltype == \"Random Forest\":\n",
    "    from sklearn.ensemble import RandomForestRegressor\n",
    "    if hyperparameter('pca'):\n",
    "        model = Pipeline(steps=[(\"scaler\", StandardScaler()), \n",
    "                                (\"pca\", PCA(n_components=hyperparameter('components'))), \n",
    "                                (\"randomforest\", RandomForestRegressor())]).fit(X_train, y_train)        \n",
    "    else:\n",
    "        model = RandomForestRegressor().fit(X_train, y_train)\n",
    "elif modeltype == \"Partial Least Squares\":\n",
    "    from sklearn.cross_decomposition import PLSRegression\n",
    "    model = PLSRegression(n_components=hyperparameter('components')).fit(X_train, y_train)\n",
    "elif modeltype == \"Custom Python Code\":\n",
    "    exec(model_cfg(\"model_code\"))    \n",
    "elif modeltype == \"Support Vector Machine\":\n",
    "    from sklearn.svm import SVR\n",
    "    kernel = hyperparameter('kernel')\n",
    "    if kernel == 'poly':\n",
    "        regr = SVR(kernel=kernel, C=hyperparameter('C'), degree=hyperparameter('degree'))\n",
    "    else:\n",
    "        regr = SVR(kernel=kernel, C=hyperparameter('C'))\n",
    "    model = regr.fit(X_train, y_train)\n",
    "\n",
    "write_fit(model)\n",
    "\n",
    "set_metrics({\n",
    "    'R2': model.score(X_test, y_test),\n",
    "})"
   ]
  },
  {
   "cell_type": "code",
   "execution_count": null,
   "metadata": {},
   "outputs": [],
   "source": [
    "do_split"
   ]
  },
  {
   "attachments": {},
   "cell_type": "markdown",
   "metadata": {},
   "source": [
    "A plot to detect model quality"
   ]
  },
  {
   "cell_type": "code",
   "execution_count": null,
   "metadata": {},
   "outputs": [],
   "source": [
    "predicted = model.predict(X_test)\n",
    "residuals = predicted - y_test\n",
    "from matplotlib import pyplot as plt\n",
    "plt.figure(figsize=(6, 5))\n",
    "plt.scatter(y_test, residuals)\n",
    "plt.show()"
   ]
  },
  {
   "cell_type": "markdown",
   "metadata": {},
   "source": [
    "Predicted vs observed in outcomes"
   ]
  },
  {
   "cell_type": "code",
   "execution_count": null,
   "metadata": {},
   "outputs": [],
   "source": [
    "from matplotlib import pyplot as plt\n",
    "outcome_field = model_cfg(\"outcome_field\")\n",
    "plt.figure(figsize=(6, 5))\n",
    "plt.scatter(predicted, y_test)\n",
    "plt.xlabel(\"Predicted \"+outcome_field)\n",
    "plt.ylabel(\"Observed \"+outcome_field)\n",
    "plt.show()"
   ]
  },
  {
   "attachments": {},
   "cell_type": "markdown",
   "metadata": {},
   "source": [
    "This is the predict code"
   ]
  },
  {
   "cell_type": "code",
   "execution_count": null,
   "metadata": {},
   "outputs": [],
   "source": [
    "import pickle\n",
    "import pandas\n",
    "\n",
    "def predict(model_pickle_file, data_csv_file):\n",
    "  with open(model_pickle_file, \"rb\") as input_file:\n",
    "    mdl1 = pickle.load(input_file)\n",
    "    predcsv = pandas.read_csv(data_csv_file)\n",
    "    return {\n",
    "        'yhat': list(mdl1.predict(predcsv))\n",
    "      }"
   ]
  }
 ],
 "metadata": {
  "kernelspec": {
   "display_name": "Python 3",
   "language": "python",
   "name": "python3"
  },
  "language_info": {
   "codemirror_mode": {
    "name": "ipython",
    "version": 3
   },
   "file_extension": ".py",
   "mimetype": "text/x-python",
   "name": "python",
   "nbconvert_exporter": "python",
   "pygments_lexer": "ipython3",
   "version": "3.11.3"
  },
  "orig_nbformat": 4
 },
 "nbformat": 4,
 "nbformat_minor": 2
}
